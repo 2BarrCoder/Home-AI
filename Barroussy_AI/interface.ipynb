{
 "cells": [
  {
   "cell_type": "code",
   "execution_count": 6,
   "id": "af7bb15c",
   "metadata": {},
   "outputs": [
    {
     "name": "stdout",
     "output_type": "stream",
     "text": [
      "Selected file paths: ('C:/Users/oden/Downloads/training_pics/2/deep01.jpg', 'C:/Users/oden/Downloads/training_pics/2/deep02.jpg', 'C:/Users/oden/Downloads/training_pics/2/deep03.jpg', 'C:/Users/oden/Downloads/training_pics/2/deep04.jpg')\n",
      "Class: Member\n",
      "Number of images given: 4\n",
      "Images saved: 4\n",
      "Shape of X: (15, 10000)\n",
      "Shape of y: 15\n",
      "Classes: ['Member', 'Member', 'Member', 'Member', 'Member', 'Guest', 'Guest', 'Guest', 'Guest', 'Guest', 'Guest', 'Member', 'Member', 'Member', 'Member']\n"
     ]
    }
   ],
   "source": [
    "import tkinter as tk\n",
    "from PIL import Image, ImageTk\n",
    "import trainGUI\n",
    "\n",
    "root = tk.Tk()\n",
    "root.iconbitmap(\"src/icon.ico\") \n",
    "root.iconbitmap(default=\"src/icon.ico\")\n",
    "root.title(\"Home AI\")\n",
    "root.geometry(\"388x500\")  # Définir la taille de la fenêtre\n",
    "\n",
    "root.resizable(False, False)\n",
    "\n",
    "# Fonction pour charger une image\n",
    "def load_image(label):\n",
    "    image_path = \"src/999.jpeg\"  # Chemin vers votre image\n",
    "    image = Image.open(image_path)\n",
    "    # Redimensionner l'image pour qu'elle s'adapte à la taille maximale\n",
    "    \n",
    "    image.thumbnail((700, 700))\n",
    "    photo = ImageTk.PhotoImage(image)\n",
    "    label.config(image=photo)\n",
    "    label.image = photo  # Conserver une référence à l'image pour éviter la collecte de déchets\n",
    "    label.place(x=0, y=0, relwidth=1, relheight=1)  # Remplir toute la fenêtre avec l'image\n",
    "\n",
    "# Définir une fonction à appeler lorsque le bouton est cliqué\n",
    "\n",
    "\n",
    "\n",
    "\n",
    "def button_click():\n",
    "    #print(\"Bouton cliqué !\")\n",
    "    !py trainGUI.py\n",
    "    \n",
    "def button_click2():\n",
    "    #print(\"Bouton2 cliqué !\")    \n",
    "    !py detectGUI.py\n",
    "\n",
    "def button_click3():\n",
    "    root.destroy()  \n",
    "\n",
    "# Créer un label pour afficher l'image\n",
    "label = tk.Label(root)\n",
    "label.pack()\n",
    "\n",
    "# Charger l'image en passant le label en argument\n",
    "load_image(label)\n",
    "\n",
    "# Créer un label pour afficher le menu en haut\n",
    "menu_label = tk.Label(root, text=\"Home Face Recognition System\", font=(\"Helvetica\", 18,\"bold\"), bg=\"black\", fg=\"white\" )\n",
    "menu_label.pack(side=tk.TOP, fill=tk.X)\n",
    "\n",
    "# Calculer la position verticale pour centrer les boutons\n",
    "button_height = 50\n",
    "total_height = 500\n",
    "padding = 10\n",
    "\n",
    "button_y = (total_height - button_height * 2 - padding) / 2\n",
    "\n",
    "# Créer les boutons\n",
    "button = tk.Button(root, text=\"New Person\", command=button_click,font=(\"Helvetica\", 16,\"bold\"), bg=\"black\", fg=\"white\")\n",
    "button2 = tk.Button(root, text=\"Detect AI\", command=button_click2, font=(\"Helvetica\", 16,\"bold\"), bg=\"black\", fg=\"white\")\n",
    "button3 = tk.Button(root, text=\" Exit \", command=button_click3, font=(\"Helvetica\", 12,\"bold\"), bg=\"#A21629\", fg=\"white\")\n",
    "\n",
    "# Placer les boutons au milieu avec un padding entre eux\n",
    "button.place(relx=0.5, rely=0.5 - (button_height + padding / 2) / total_height, anchor=tk.CENTER)\n",
    "button2.place(relx=0.5, rely=0.5 + (button_height + padding / 2) / total_height, anchor=tk.CENTER)\n",
    "button3.place(relx=0.5, rely=0.5 + (150 + padding / 2) / total_height, anchor=tk.CENTER)\n",
    "\n",
    "root.wm_iconbitmap(\"src/icon.ico\")\n",
    "root.mainloop()"
   ]
  }
 ],
 "metadata": {
  "kernelspec": {
   "display_name": "Python 3 (ipykernel)",
   "language": "python",
   "name": "python3"
  },
  "language_info": {
   "codemirror_mode": {
    "name": "ipython",
    "version": 3
   },
   "file_extension": ".py",
   "mimetype": "text/x-python",
   "name": "python",
   "nbconvert_exporter": "python",
   "pygments_lexer": "ipython3",
   "version": "3.12.3"
  }
 },
 "nbformat": 4,
 "nbformat_minor": 5
}
